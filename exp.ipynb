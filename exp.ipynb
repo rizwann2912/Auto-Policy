{
 "cells": [
  {
   "cell_type": "code",
   "execution_count": 1,
   "metadata": {},
   "outputs": [],
   "source": [
    "import re"
   ]
  },
  {
   "cell_type": "code",
   "execution_count": 3,
   "metadata": {},
   "outputs": [],
   "source": [
    "retention_patterns = [\n",
    "            r'(\\d+)\\s*(year|month|day)s?',\n",
    "            r'(indefinitely|permanently)',\n",
    "            r'until.*?(delete|remove)'\n",
    "        ]\n",
    "text_lower = ' we'\n",
    "retention_duration = \"unknown\"\n",
    "for pattern in retention_patterns:\n",
    "    match = re.search(pattern, text_lower)\n",
    "    if match:\n",
    "        retention_duration = match.group(0)\n",
    "        break\n"
   ]
  },
  {
   "cell_type": "code",
   "execution_count": 4,
   "metadata": {},
   "outputs": [
    {
     "data": {
      "text/plain": [
       "'unknown'"
      ]
     },
     "execution_count": 4,
     "metadata": {},
     "output_type": "execute_result"
    }
   ],
   "source": [
    "retention_duration"
   ]
  },
  {
   "cell_type": "code",
   "execution_count": 5,
   "metadata": {},
   "outputs": [
    {
     "data": {
      "text/plain": [
       "<re.Match object; span=(3, 15), match='indefinitely'>"
      ]
     },
     "execution_count": 5,
     "metadata": {},
     "output_type": "execute_result"
    }
   ],
   "source": [
    "re.search(r'(indefinitely|permanently)','we indefinitely')"
   ]
  },
  {
   "cell_type": "code",
   "execution_count": 6,
   "metadata": {},
   "outputs": [
    {
     "data": {
      "text/plain": [
       "'indefinitely'"
      ]
     },
     "execution_count": 6,
     "metadata": {},
     "output_type": "execute_result"
    }
   ],
   "source": [
    "re.search(r'(indefinitely|permanently)','we indefinitely').group(0)"
   ]
  },
  {
   "cell_type": "code",
   "execution_count": 7,
   "metadata": {},
   "outputs": [],
   "source": [
    "def summarize_with_api(policy_text):\n",
    "    API_URL = \"https://api-inference.huggingface.co/models/facebook/bart-large-cnn\"\n",
    "    headers = {\"Authorization\": f\"Bearer {os.getenv('ACCESS_TOKEN')}\"}\n",
    "\n",
    "    def query(payload):\n",
    "        response = requests.post(API_URL, headers=headers, json=payload)\n",
    "        return response.json()\n",
    "    \n",
    "    output = query({\n",
    "        \"inputs\": policy_text[:1000],  # Limit input length\n",
    "        \"parameters\": {\"max_length\": 150, \"min_length\": 50}\n",
    "    })\n",
    "    \n",
    "    if isinstance(output, list) and len(output) > 0:\n",
    "        return output[0].get('summary_text', 'Unable to generate summary')\n",
    "    return \"Error: Unable to generate summary\""
   ]
  },
  {
   "cell_type": "code",
   "execution_count": null,
   "metadata": {},
   "outputs": [],
   "source": [
    "summarize_with_api()"
   ]
  }
 ],
 "metadata": {
  "kernelspec": {
   "display_name": "Python 3",
   "language": "python",
   "name": "python3"
  },
  "language_info": {
   "codemirror_mode": {
    "name": "ipython",
    "version": 3
   },
   "file_extension": ".py",
   "mimetype": "text/x-python",
   "name": "python",
   "nbconvert_exporter": "python",
   "pygments_lexer": "ipython3",
   "version": "3.12.0"
  }
 },
 "nbformat": 4,
 "nbformat_minor": 2
}
